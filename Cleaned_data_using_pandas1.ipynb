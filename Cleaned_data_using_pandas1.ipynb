{
 "cells": [
  {
   "cell_type": "markdown",
   "id": "e0870430-b275-48d0-9128-9828442d0859",
   "metadata": {},
   "source": [
    "# Cleaned the raw data using pandas and numpy step by step "
   ]
  },
  {
   "cell_type": "markdown",
   "id": "2883cbee-3e99-4100-9678-3a0e3d6e19a9",
   "metadata": {},
   "source": [
    "# Import Library"
   ]
  },
  {
   "cell_type": "code",
   "execution_count": 1,
   "id": "daed4440-0077-45a8-aff1-a16a2000285f",
   "metadata": {},
   "outputs": [],
   "source": [
    "import pandas as pd\n",
    "import numpy as np"
   ]
  },
  {
   "cell_type": "markdown",
   "id": "b27f7bd2-ab93-45fd-b96b-7d8cc21aa9e6",
   "metadata": {},
   "source": [
    "# Load the Dataset"
   ]
  },
  {
   "cell_type": "code",
   "execution_count": 2,
   "id": "a8994192-c204-49e2-aa74-69ee89cf3879",
   "metadata": {},
   "outputs": [],
   "source": [
    "df=pd.read_csv(\"C:/Users/DELL/Downloads/students_data.csv\")"
   ]
  },
  {
   "cell_type": "markdown",
   "id": "6d937c4d-9467-4042-aab8-6ddbec5ad307",
   "metadata": {},
   "source": [
    "# Display First 5 rows using Head()"
   ]
  },
  {
   "cell_type": "code",
   "execution_count": 3,
   "id": "15a43fd6-7ee2-4a74-a787-914161cfb6c4",
   "metadata": {},
   "outputs": [
    {
     "data": {
      "text/html": [
       "<div>\n",
       "<style scoped>\n",
       "    .dataframe tbody tr th:only-of-type {\n",
       "        vertical-align: middle;\n",
       "    }\n",
       "\n",
       "    .dataframe tbody tr th {\n",
       "        vertical-align: top;\n",
       "    }\n",
       "\n",
       "    .dataframe thead th {\n",
       "        text-align: right;\n",
       "    }\n",
       "</style>\n",
       "<table border=\"1\" class=\"dataframe\">\n",
       "  <thead>\n",
       "    <tr style=\"text-align: right;\">\n",
       "      <th></th>\n",
       "      <th>student_id</th>\n",
       "      <th>name</th>\n",
       "      <th>age</th>\n",
       "      <th>gender</th>\n",
       "      <th>grade</th>\n",
       "      <th>math_score</th>\n",
       "      <th>english_score</th>\n",
       "      <th>science_score</th>\n",
       "      <th>enrolled_date</th>\n",
       "      <th>remarks</th>\n",
       "    </tr>\n",
       "  </thead>\n",
       "  <tbody>\n",
       "    <tr>\n",
       "      <th>0</th>\n",
       "      <td>100</td>\n",
       "      <td>jane smith</td>\n",
       "      <td>16.0</td>\n",
       "      <td>female</td>\n",
       "      <td>11</td>\n",
       "      <td>75.0</td>\n",
       "      <td>NaN</td>\n",
       "      <td>66</td>\n",
       "      <td>2022-06-10</td>\n",
       "      <td>excellent</td>\n",
       "    </tr>\n",
       "    <tr>\n",
       "      <th>1</th>\n",
       "      <td>101</td>\n",
       "      <td>John Doe</td>\n",
       "      <td>16.0</td>\n",
       "      <td>Male</td>\n",
       "      <td>10th</td>\n",
       "      <td>74.0</td>\n",
       "      <td>95</td>\n",
       "      <td>94</td>\n",
       "      <td>10-06-2022</td>\n",
       "      <td>GOOD</td>\n",
       "    </tr>\n",
       "    <tr>\n",
       "      <th>2</th>\n",
       "      <td>102</td>\n",
       "      <td>Chris P.</td>\n",
       "      <td>NaN</td>\n",
       "      <td>MALE</td>\n",
       "      <td>10</td>\n",
       "      <td>NaN</td>\n",
       "      <td>missing</td>\n",
       "      <td>69</td>\n",
       "      <td>06/12/2022</td>\n",
       "      <td>needs improvement</td>\n",
       "    </tr>\n",
       "    <tr>\n",
       "      <th>3</th>\n",
       "      <td>103</td>\n",
       "      <td>jane smith</td>\n",
       "      <td>16.0</td>\n",
       "      <td>FEMALE</td>\n",
       "      <td>10</td>\n",
       "      <td>NaN</td>\n",
       "      <td>missing</td>\n",
       "      <td>62</td>\n",
       "      <td>10-06-2022</td>\n",
       "      <td>average</td>\n",
       "    </tr>\n",
       "    <tr>\n",
       "      <th>4</th>\n",
       "      <td>104</td>\n",
       "      <td>Sara O'Neil</td>\n",
       "      <td>16.0</td>\n",
       "      <td>male</td>\n",
       "      <td>11</td>\n",
       "      <td>NaN</td>\n",
       "      <td>96</td>\n",
       "      <td>64</td>\n",
       "      <td>2022-06-10</td>\n",
       "      <td>GOOD</td>\n",
       "    </tr>\n",
       "  </tbody>\n",
       "</table>\n",
       "</div>"
      ],
      "text/plain": [
       "   student_id         name   age  gender grade  math_score english_score  \\\n",
       "0         100   jane smith  16.0  female    11        75.0           NaN   \n",
       "1         101     John Doe  16.0    Male  10th        74.0            95   \n",
       "2         102     Chris P.   NaN    MALE    10         NaN       missing   \n",
       "3         103   jane smith  16.0  FEMALE    10         NaN       missing   \n",
       "4         104  Sara O'Neil  16.0    male    11         NaN            96   \n",
       "\n",
       "   science_score enrolled_date            remarks  \n",
       "0             66    2022-06-10          excellent  \n",
       "1             94    10-06-2022               GOOD  \n",
       "2             69    06/12/2022  needs improvement  \n",
       "3             62    10-06-2022            average  \n",
       "4             64    2022-06-10               GOOD  "
      ]
     },
     "execution_count": 3,
     "metadata": {},
     "output_type": "execute_result"
    }
   ],
   "source": [
    " df.head()"
   ]
  },
  {
   "cell_type": "markdown",
   "id": "4a4a32b4-9e13-49c9-8090-0bfb55ef1885",
   "metadata": {},
   "source": [
    "# showing the infomation about the all  columns"
   ]
  },
  {
   "cell_type": "code",
   "execution_count": 4,
   "id": "6d0935f7-8b8c-4ecd-8ce3-8105de2c1242",
   "metadata": {},
   "outputs": [
    {
     "name": "stdout",
     "output_type": "stream",
     "text": [
      "<class 'pandas.core.frame.DataFrame'>\n",
      "RangeIndex: 31 entries, 0 to 30\n",
      "Data columns (total 10 columns):\n",
      " #   Column         Non-Null Count  Dtype  \n",
      "---  ------         --------------  -----  \n",
      " 0   student_id     31 non-null     int64  \n",
      " 1   name           31 non-null     object \n",
      " 2   age            28 non-null     float64\n",
      " 3   gender         31 non-null     object \n",
      " 4   grade          31 non-null     object \n",
      " 5   math_score     13 non-null     float64\n",
      " 6   english_score  23 non-null     object \n",
      " 7   science_score  31 non-null     int64  \n",
      " 8   enrolled_date  31 non-null     object \n",
      " 9   remarks        31 non-null     object \n",
      "dtypes: float64(2), int64(2), object(6)\n",
      "memory usage: 2.6+ KB\n"
     ]
    }
   ],
   "source": [
    "df.info()"
   ]
  },
  {
   "cell_type": "markdown",
   "id": "d621eb26-c4eb-40ae-ad35-0f22213ecc98",
   "metadata": {},
   "source": [
    "# showing the aggregate function on the numeric columns"
   ]
  },
  {
   "cell_type": "code",
   "execution_count": 5,
   "id": "34c045ee-ac0b-49f0-b86f-64db95526590",
   "metadata": {},
   "outputs": [
    {
     "data": {
      "text/html": [
       "<div>\n",
       "<style scoped>\n",
       "    .dataframe tbody tr th:only-of-type {\n",
       "        vertical-align: middle;\n",
       "    }\n",
       "\n",
       "    .dataframe tbody tr th {\n",
       "        vertical-align: top;\n",
       "    }\n",
       "\n",
       "    .dataframe thead th {\n",
       "        text-align: right;\n",
       "    }\n",
       "</style>\n",
       "<table border=\"1\" class=\"dataframe\">\n",
       "  <thead>\n",
       "    <tr style=\"text-align: right;\">\n",
       "      <th></th>\n",
       "      <th>student_id</th>\n",
       "      <th>age</th>\n",
       "      <th>math_score</th>\n",
       "      <th>science_score</th>\n",
       "    </tr>\n",
       "  </thead>\n",
       "  <tbody>\n",
       "    <tr>\n",
       "      <th>count</th>\n",
       "      <td>31.000000</td>\n",
       "      <td>28.000000</td>\n",
       "      <td>13.000000</td>\n",
       "      <td>31.000000</td>\n",
       "    </tr>\n",
       "    <tr>\n",
       "      <th>mean</th>\n",
       "      <td>114.967742</td>\n",
       "      <td>16.785714</td>\n",
       "      <td>74.000000</td>\n",
       "      <td>79.903226</td>\n",
       "    </tr>\n",
       "    <tr>\n",
       "      <th>std</th>\n",
       "      <td>9.038746</td>\n",
       "      <td>0.629941</td>\n",
       "      <td>11.510864</td>\n",
       "      <td>13.095431</td>\n",
       "    </tr>\n",
       "    <tr>\n",
       "      <th>min</th>\n",
       "      <td>100.000000</td>\n",
       "      <td>16.000000</td>\n",
       "      <td>64.000000</td>\n",
       "      <td>62.000000</td>\n",
       "    </tr>\n",
       "    <tr>\n",
       "      <th>25%</th>\n",
       "      <td>107.500000</td>\n",
       "      <td>16.000000</td>\n",
       "      <td>65.000000</td>\n",
       "      <td>66.500000</td>\n",
       "    </tr>\n",
       "    <tr>\n",
       "      <th>50%</th>\n",
       "      <td>115.000000</td>\n",
       "      <td>17.000000</td>\n",
       "      <td>73.000000</td>\n",
       "      <td>83.000000</td>\n",
       "    </tr>\n",
       "    <tr>\n",
       "      <th>75%</th>\n",
       "      <td>122.500000</td>\n",
       "      <td>17.000000</td>\n",
       "      <td>75.000000</td>\n",
       "      <td>90.500000</td>\n",
       "    </tr>\n",
       "    <tr>\n",
       "      <th>max</th>\n",
       "      <td>129.000000</td>\n",
       "      <td>18.000000</td>\n",
       "      <td>100.000000</td>\n",
       "      <td>100.000000</td>\n",
       "    </tr>\n",
       "  </tbody>\n",
       "</table>\n",
       "</div>"
      ],
      "text/plain": [
       "       student_id        age  math_score  science_score\n",
       "count   31.000000  28.000000   13.000000      31.000000\n",
       "mean   114.967742  16.785714   74.000000      79.903226\n",
       "std      9.038746   0.629941   11.510864      13.095431\n",
       "min    100.000000  16.000000   64.000000      62.000000\n",
       "25%    107.500000  16.000000   65.000000      66.500000\n",
       "50%    115.000000  17.000000   73.000000      83.000000\n",
       "75%    122.500000  17.000000   75.000000      90.500000\n",
       "max    129.000000  18.000000  100.000000     100.000000"
      ]
     },
     "execution_count": 5,
     "metadata": {},
     "output_type": "execute_result"
    }
   ],
   "source": [
    "df.describe()"
   ]
  },
  {
   "cell_type": "markdown",
   "id": "89c49177-8d3e-42d7-aa9b-b3101c150265",
   "metadata": {},
   "source": [
    "# Change the all names fonts change in title into case "
   ]
  },
  {
   "cell_type": "code",
   "execution_count": 20,
   "id": "89b0ca0a-d000-4f9d-b85c-cf9fe94267c9",
   "metadata": {},
   "outputs": [],
   "source": [
    "df.loc[:,'name']=df.name.str.lower().str.title()"
   ]
  },
  {
   "cell_type": "markdown",
   "id": "6858344b-e4db-4d20-991e-dee77c8cd9f0",
   "metadata": {},
   "source": [
    "# check all the null value present in the age column"
   ]
  },
  {
   "cell_type": "code",
   "execution_count": 21,
   "id": "e051ac65-a8d6-4fe1-b514-d226f4cf2d42",
   "metadata": {},
   "outputs": [
    {
     "data": {
      "text/plain": [
       "3"
      ]
     },
     "execution_count": 21,
     "metadata": {},
     "output_type": "execute_result"
    }
   ],
   "source": [
    "df.age.isnull().sum()"
   ]
  },
  {
   "cell_type": "markdown",
   "id": "d586b973-f9d9-4716-867c-be5e32417952",
   "metadata": {},
   "source": [
    "# Fill the mean(average of age) in place of null values "
   ]
  },
  {
   "cell_type": "code",
   "execution_count": 22,
   "id": "7539200e-e30b-4493-9417-d75e65b875d2",
   "metadata": {},
   "outputs": [],
   "source": [
    "age_mean=df.age.mean()"
   ]
  },
  {
   "cell_type": "code",
   "execution_count": 23,
   "id": "7ea2ab3b-3617-4cab-b3e3-f0aef5d3fcb7",
   "metadata": {},
   "outputs": [],
   "source": [
    "age_mean=age_mean.round(0)"
   ]
  },
  {
   "cell_type": "code",
   "execution_count": 24,
   "id": "e7e9e9c7-0e86-4711-b594-aa0b5a703b8b",
   "metadata": {},
   "outputs": [
    {
     "data": {
      "text/plain": [
       "17.0"
      ]
     },
     "execution_count": 24,
     "metadata": {},
     "output_type": "execute_result"
    }
   ],
   "source": [
    "age_mean"
   ]
  },
  {
   "cell_type": "code",
   "execution_count": 25,
   "id": "64343b23-0df5-4305-b07c-e6524dfb7eea",
   "metadata": {},
   "outputs": [],
   "source": [
    "df.loc[:,'age']=df['age'].fillna(age_mean)"
   ]
  },
  {
   "cell_type": "code",
   "execution_count": 26,
   "id": "bbec0783-d239-4b20-a8cd-06011f3548cc",
   "metadata": {},
   "outputs": [
    {
     "data": {
      "text/plain": [
       "0     16.0\n",
       "1     16.0\n",
       "2     17.0\n",
       "3     16.0\n",
       "4     16.0\n",
       "5     16.0\n",
       "6     17.0\n",
       "7     17.0\n",
       "8     16.0\n",
       "9     17.0\n",
       "10    17.0\n",
       "11    16.0\n",
       "12    17.0\n",
       "13    17.0\n",
       "14    17.0\n",
       "15    16.0\n",
       "16    17.0\n",
       "17    18.0\n",
       "18    17.0\n",
       "19    17.0\n",
       "20    17.0\n",
       "21    18.0\n",
       "22    17.0\n",
       "23    17.0\n",
       "24    18.0\n",
       "25    17.0\n",
       "26    17.0\n",
       "27    16.0\n",
       "28    17.0\n",
       "29    17.0\n",
       "30    17.0\n",
       "Name: age, dtype: float64"
      ]
     },
     "execution_count": 26,
     "metadata": {},
     "output_type": "execute_result"
    }
   ],
   "source": [
    "df.age"
   ]
  },
  {
   "cell_type": "code",
   "execution_count": 27,
   "id": "a7ff605d-d4df-4584-9dba-f5cb4f2fc697",
   "metadata": {},
   "outputs": [
    {
     "data": {
      "text/html": [
       "<div>\n",
       "<style scoped>\n",
       "    .dataframe tbody tr th:only-of-type {\n",
       "        vertical-align: middle;\n",
       "    }\n",
       "\n",
       "    .dataframe tbody tr th {\n",
       "        vertical-align: top;\n",
       "    }\n",
       "\n",
       "    .dataframe thead th {\n",
       "        text-align: right;\n",
       "    }\n",
       "</style>\n",
       "<table border=\"1\" class=\"dataframe\">\n",
       "  <thead>\n",
       "    <tr style=\"text-align: right;\">\n",
       "      <th></th>\n",
       "      <th>student_id</th>\n",
       "      <th>name</th>\n",
       "      <th>age</th>\n",
       "      <th>gender</th>\n",
       "      <th>grade</th>\n",
       "      <th>math_score</th>\n",
       "      <th>english_score</th>\n",
       "      <th>science_score</th>\n",
       "      <th>enrolled_date</th>\n",
       "      <th>remarks</th>\n",
       "    </tr>\n",
       "  </thead>\n",
       "  <tbody>\n",
       "    <tr>\n",
       "      <th>0</th>\n",
       "      <td>100</td>\n",
       "      <td>Jane Smith</td>\n",
       "      <td>16.0</td>\n",
       "      <td>female</td>\n",
       "      <td>11</td>\n",
       "      <td>75.0</td>\n",
       "      <td>NaN</td>\n",
       "      <td>66</td>\n",
       "      <td>2022-06-10</td>\n",
       "      <td>excellent</td>\n",
       "    </tr>\n",
       "    <tr>\n",
       "      <th>1</th>\n",
       "      <td>101</td>\n",
       "      <td>John Doe</td>\n",
       "      <td>16.0</td>\n",
       "      <td>Male</td>\n",
       "      <td>10th</td>\n",
       "      <td>74.0</td>\n",
       "      <td>95</td>\n",
       "      <td>94</td>\n",
       "      <td>10-06-2022</td>\n",
       "      <td>GOOD</td>\n",
       "    </tr>\n",
       "    <tr>\n",
       "      <th>2</th>\n",
       "      <td>102</td>\n",
       "      <td>Chris P.</td>\n",
       "      <td>17.0</td>\n",
       "      <td>MALE</td>\n",
       "      <td>10</td>\n",
       "      <td>NaN</td>\n",
       "      <td>missing</td>\n",
       "      <td>69</td>\n",
       "      <td>06/12/2022</td>\n",
       "      <td>needs improvement</td>\n",
       "    </tr>\n",
       "    <tr>\n",
       "      <th>3</th>\n",
       "      <td>103</td>\n",
       "      <td>Jane Smith</td>\n",
       "      <td>16.0</td>\n",
       "      <td>FEMALE</td>\n",
       "      <td>10</td>\n",
       "      <td>NaN</td>\n",
       "      <td>missing</td>\n",
       "      <td>62</td>\n",
       "      <td>10-06-2022</td>\n",
       "      <td>average</td>\n",
       "    </tr>\n",
       "    <tr>\n",
       "      <th>4</th>\n",
       "      <td>104</td>\n",
       "      <td>Sara O'Neil</td>\n",
       "      <td>16.0</td>\n",
       "      <td>male</td>\n",
       "      <td>11</td>\n",
       "      <td>NaN</td>\n",
       "      <td>96</td>\n",
       "      <td>64</td>\n",
       "      <td>2022-06-10</td>\n",
       "      <td>GOOD</td>\n",
       "    </tr>\n",
       "  </tbody>\n",
       "</table>\n",
       "</div>"
      ],
      "text/plain": [
       "   student_id         name   age  gender grade  math_score english_score  \\\n",
       "0         100   Jane Smith  16.0  female    11        75.0           NaN   \n",
       "1         101     John Doe  16.0    Male  10th        74.0            95   \n",
       "2         102     Chris P.  17.0    MALE    10         NaN       missing   \n",
       "3         103   Jane Smith  16.0  FEMALE    10         NaN       missing   \n",
       "4         104  Sara O'Neil  16.0    male    11         NaN            96   \n",
       "\n",
       "   science_score enrolled_date            remarks  \n",
       "0             66    2022-06-10          excellent  \n",
       "1             94    10-06-2022               GOOD  \n",
       "2             69    06/12/2022  needs improvement  \n",
       "3             62    10-06-2022            average  \n",
       "4             64    2022-06-10               GOOD  "
      ]
     },
     "execution_count": 27,
     "metadata": {},
     "output_type": "execute_result"
    }
   ],
   "source": [
    "df.head()"
   ]
  },
  {
   "cell_type": "markdown",
   "id": "49d7bbd1-e45e-4524-80fa-f30703909352",
   "metadata": {},
   "source": [
    "# check the all unique values present in the gender columns "
   ]
  },
  {
   "cell_type": "code",
   "execution_count": 28,
   "id": "a6f32a75-395a-4d19-96d7-5bf130c180ed",
   "metadata": {},
   "outputs": [
    {
     "data": {
      "text/plain": [
       "array(['female', 'Male', 'MALE', 'FEMALE', 'male', 'Female'], dtype=object)"
      ]
     },
     "execution_count": 28,
     "metadata": {},
     "output_type": "execute_result"
    }
   ],
   "source": [
    "df.gender.unique()"
   ]
  },
  {
   "cell_type": "code",
   "execution_count": 29,
   "id": "46b58fb8-79ec-4e1f-b673-8f56d4cc9f1c",
   "metadata": {},
   "outputs": [],
   "source": [
    "gender_dict={'female':'Female','Male':'Male','MALE':'Male','FEMALE':'Female','Male':'Male'}"
   ]
  },
  {
   "cell_type": "markdown",
   "id": "c32d09b7-cd68-4bfc-895c-13d1acef8eb0",
   "metadata": {},
   "source": [
    "# Replace the values with repeating values"
   ]
  },
  {
   "cell_type": "code",
   "execution_count": 30,
   "id": "ff5f2820-8635-42d5-98c4-07b9ddaeb22e",
   "metadata": {},
   "outputs": [],
   "source": [
    "df['gender']=df.gender.replace(gender_dict)"
   ]
  },
  {
   "cell_type": "code",
   "execution_count": 31,
   "id": "d9b00b55-3a94-440c-aa29-7d60ac5d8aaf",
   "metadata": {},
   "outputs": [
    {
     "data": {
      "text/html": [
       "<div>\n",
       "<style scoped>\n",
       "    .dataframe tbody tr th:only-of-type {\n",
       "        vertical-align: middle;\n",
       "    }\n",
       "\n",
       "    .dataframe tbody tr th {\n",
       "        vertical-align: top;\n",
       "    }\n",
       "\n",
       "    .dataframe thead th {\n",
       "        text-align: right;\n",
       "    }\n",
       "</style>\n",
       "<table border=\"1\" class=\"dataframe\">\n",
       "  <thead>\n",
       "    <tr style=\"text-align: right;\">\n",
       "      <th></th>\n",
       "      <th>student_id</th>\n",
       "      <th>name</th>\n",
       "      <th>age</th>\n",
       "      <th>gender</th>\n",
       "      <th>grade</th>\n",
       "      <th>math_score</th>\n",
       "      <th>english_score</th>\n",
       "      <th>science_score</th>\n",
       "      <th>enrolled_date</th>\n",
       "      <th>remarks</th>\n",
       "    </tr>\n",
       "  </thead>\n",
       "  <tbody>\n",
       "    <tr>\n",
       "      <th>0</th>\n",
       "      <td>100</td>\n",
       "      <td>Jane Smith</td>\n",
       "      <td>16.0</td>\n",
       "      <td>Female</td>\n",
       "      <td>11</td>\n",
       "      <td>75.0</td>\n",
       "      <td>NaN</td>\n",
       "      <td>66</td>\n",
       "      <td>2022-06-10</td>\n",
       "      <td>excellent</td>\n",
       "    </tr>\n",
       "    <tr>\n",
       "      <th>1</th>\n",
       "      <td>101</td>\n",
       "      <td>John Doe</td>\n",
       "      <td>16.0</td>\n",
       "      <td>Male</td>\n",
       "      <td>10th</td>\n",
       "      <td>74.0</td>\n",
       "      <td>95</td>\n",
       "      <td>94</td>\n",
       "      <td>10-06-2022</td>\n",
       "      <td>GOOD</td>\n",
       "    </tr>\n",
       "    <tr>\n",
       "      <th>2</th>\n",
       "      <td>102</td>\n",
       "      <td>Chris P.</td>\n",
       "      <td>17.0</td>\n",
       "      <td>Male</td>\n",
       "      <td>10</td>\n",
       "      <td>NaN</td>\n",
       "      <td>missing</td>\n",
       "      <td>69</td>\n",
       "      <td>06/12/2022</td>\n",
       "      <td>needs improvement</td>\n",
       "    </tr>\n",
       "    <tr>\n",
       "      <th>3</th>\n",
       "      <td>103</td>\n",
       "      <td>Jane Smith</td>\n",
       "      <td>16.0</td>\n",
       "      <td>Female</td>\n",
       "      <td>10</td>\n",
       "      <td>NaN</td>\n",
       "      <td>missing</td>\n",
       "      <td>62</td>\n",
       "      <td>10-06-2022</td>\n",
       "      <td>average</td>\n",
       "    </tr>\n",
       "    <tr>\n",
       "      <th>4</th>\n",
       "      <td>104</td>\n",
       "      <td>Sara O'Neil</td>\n",
       "      <td>16.0</td>\n",
       "      <td>male</td>\n",
       "      <td>11</td>\n",
       "      <td>NaN</td>\n",
       "      <td>96</td>\n",
       "      <td>64</td>\n",
       "      <td>2022-06-10</td>\n",
       "      <td>GOOD</td>\n",
       "    </tr>\n",
       "  </tbody>\n",
       "</table>\n",
       "</div>"
      ],
      "text/plain": [
       "   student_id         name   age  gender grade  math_score english_score  \\\n",
       "0         100   Jane Smith  16.0  Female    11        75.0           NaN   \n",
       "1         101     John Doe  16.0    Male  10th        74.0            95   \n",
       "2         102     Chris P.  17.0    Male    10         NaN       missing   \n",
       "3         103   Jane Smith  16.0  Female    10         NaN       missing   \n",
       "4         104  Sara O'Neil  16.0    male    11         NaN            96   \n",
       "\n",
       "   science_score enrolled_date            remarks  \n",
       "0             66    2022-06-10          excellent  \n",
       "1             94    10-06-2022               GOOD  \n",
       "2             69    06/12/2022  needs improvement  \n",
       "3             62    10-06-2022            average  \n",
       "4             64    2022-06-10               GOOD  "
      ]
     },
     "execution_count": 31,
     "metadata": {},
     "output_type": "execute_result"
    }
   ],
   "source": [
    "df.head()"
   ]
  },
  {
   "cell_type": "markdown",
   "id": "88a02612-9800-4354-8edd-7e35879283d5",
   "metadata": {},
   "source": [
    "# check all the unique values present in the grade columns"
   ]
  },
  {
   "cell_type": "code",
   "execution_count": 32,
   "id": "d0a016dd-c33b-4626-a2b3-a2f20f19c461",
   "metadata": {},
   "outputs": [],
   "source": [
    "grade_dict={'10th':10,'11th':11}"
   ]
  },
  {
   "cell_type": "markdown",
   "id": "e6d06483-21c2-4e63-9ad7-de90c395c180",
   "metadata": {},
   "source": [
    "# Replace the repeating values"
   ]
  },
  {
   "cell_type": "code",
   "execution_count": 33,
   "id": "d8626c00-6c16-4148-bc32-76fe1783ad7f",
   "metadata": {},
   "outputs": [],
   "source": [
    "df['grade']=df.grade.replace(grade_dict)"
   ]
  },
  {
   "cell_type": "code",
   "execution_count": 34,
   "id": "0ba844c7-0cd8-4510-89ba-98fec99d933f",
   "metadata": {},
   "outputs": [
    {
     "data": {
      "text/html": [
       "<div>\n",
       "<style scoped>\n",
       "    .dataframe tbody tr th:only-of-type {\n",
       "        vertical-align: middle;\n",
       "    }\n",
       "\n",
       "    .dataframe tbody tr th {\n",
       "        vertical-align: top;\n",
       "    }\n",
       "\n",
       "    .dataframe thead th {\n",
       "        text-align: right;\n",
       "    }\n",
       "</style>\n",
       "<table border=\"1\" class=\"dataframe\">\n",
       "  <thead>\n",
       "    <tr style=\"text-align: right;\">\n",
       "      <th></th>\n",
       "      <th>student_id</th>\n",
       "      <th>name</th>\n",
       "      <th>age</th>\n",
       "      <th>gender</th>\n",
       "      <th>grade</th>\n",
       "      <th>math_score</th>\n",
       "      <th>english_score</th>\n",
       "      <th>science_score</th>\n",
       "      <th>enrolled_date</th>\n",
       "      <th>remarks</th>\n",
       "    </tr>\n",
       "  </thead>\n",
       "  <tbody>\n",
       "    <tr>\n",
       "      <th>0</th>\n",
       "      <td>100</td>\n",
       "      <td>Jane Smith</td>\n",
       "      <td>16.0</td>\n",
       "      <td>Female</td>\n",
       "      <td>11</td>\n",
       "      <td>75.0</td>\n",
       "      <td>NaN</td>\n",
       "      <td>66</td>\n",
       "      <td>2022-06-10</td>\n",
       "      <td>excellent</td>\n",
       "    </tr>\n",
       "    <tr>\n",
       "      <th>1</th>\n",
       "      <td>101</td>\n",
       "      <td>John Doe</td>\n",
       "      <td>16.0</td>\n",
       "      <td>Male</td>\n",
       "      <td>10</td>\n",
       "      <td>74.0</td>\n",
       "      <td>95</td>\n",
       "      <td>94</td>\n",
       "      <td>10-06-2022</td>\n",
       "      <td>GOOD</td>\n",
       "    </tr>\n",
       "    <tr>\n",
       "      <th>2</th>\n",
       "      <td>102</td>\n",
       "      <td>Chris P.</td>\n",
       "      <td>17.0</td>\n",
       "      <td>Male</td>\n",
       "      <td>10</td>\n",
       "      <td>NaN</td>\n",
       "      <td>missing</td>\n",
       "      <td>69</td>\n",
       "      <td>06/12/2022</td>\n",
       "      <td>needs improvement</td>\n",
       "    </tr>\n",
       "    <tr>\n",
       "      <th>3</th>\n",
       "      <td>103</td>\n",
       "      <td>Jane Smith</td>\n",
       "      <td>16.0</td>\n",
       "      <td>Female</td>\n",
       "      <td>10</td>\n",
       "      <td>NaN</td>\n",
       "      <td>missing</td>\n",
       "      <td>62</td>\n",
       "      <td>10-06-2022</td>\n",
       "      <td>average</td>\n",
       "    </tr>\n",
       "    <tr>\n",
       "      <th>4</th>\n",
       "      <td>104</td>\n",
       "      <td>Sara O'Neil</td>\n",
       "      <td>16.0</td>\n",
       "      <td>male</td>\n",
       "      <td>11</td>\n",
       "      <td>NaN</td>\n",
       "      <td>96</td>\n",
       "      <td>64</td>\n",
       "      <td>2022-06-10</td>\n",
       "      <td>GOOD</td>\n",
       "    </tr>\n",
       "  </tbody>\n",
       "</table>\n",
       "</div>"
      ],
      "text/plain": [
       "   student_id         name   age  gender grade  math_score english_score  \\\n",
       "0         100   Jane Smith  16.0  Female    11        75.0           NaN   \n",
       "1         101     John Doe  16.0    Male    10        74.0            95   \n",
       "2         102     Chris P.  17.0    Male    10         NaN       missing   \n",
       "3         103   Jane Smith  16.0  Female    10         NaN       missing   \n",
       "4         104  Sara O'Neil  16.0    male    11         NaN            96   \n",
       "\n",
       "   science_score enrolled_date            remarks  \n",
       "0             66    2022-06-10          excellent  \n",
       "1             94    10-06-2022               GOOD  \n",
       "2             69    06/12/2022  needs improvement  \n",
       "3             62    10-06-2022            average  \n",
       "4             64    2022-06-10               GOOD  "
      ]
     },
     "execution_count": 34,
     "metadata": {},
     "output_type": "execute_result"
    }
   ],
   "source": [
    "df.head()"
   ]
  },
  {
   "cell_type": "markdown",
   "id": "13d075b2-bc72-4ebe-9411-788d0df6f562",
   "metadata": {},
   "source": [
    "# check all the null values present inthe math_score column"
   ]
  },
  {
   "cell_type": "code",
   "execution_count": 35,
   "id": "36de01f1-b0bb-4fa7-8192-5b1e0448aa44",
   "metadata": {},
   "outputs": [
    {
     "data": {
      "text/plain": [
       "18"
      ]
     },
     "execution_count": 35,
     "metadata": {},
     "output_type": "execute_result"
    }
   ],
   "source": [
    "df.math_score.isnull().sum()"
   ]
  },
  {
   "cell_type": "code",
   "execution_count": 36,
   "id": "93c91227-d48e-47bc-8b25-afa026976607",
   "metadata": {},
   "outputs": [],
   "source": [
    "math_mean=df.math_score.mean()"
   ]
  },
  {
   "cell_type": "markdown",
   "id": "c768341b-dc15-481e-825b-519d381c5753",
   "metadata": {},
   "source": [
    "# fill the mean of math score value in place of null values"
   ]
  },
  {
   "cell_type": "code",
   "execution_count": 37,
   "id": "d5632679-26fa-467b-876c-6d8e4542ec5c",
   "metadata": {},
   "outputs": [],
   "source": [
    "df.loc[:,'math_score']=df['math_score'].fillna(math_mean)"
   ]
  },
  {
   "cell_type": "code",
   "execution_count": 38,
   "id": "ef1ce16e-628c-4588-ab49-20d5a547777b",
   "metadata": {},
   "outputs": [
    {
     "data": {
      "text/html": [
       "<div>\n",
       "<style scoped>\n",
       "    .dataframe tbody tr th:only-of-type {\n",
       "        vertical-align: middle;\n",
       "    }\n",
       "\n",
       "    .dataframe tbody tr th {\n",
       "        vertical-align: top;\n",
       "    }\n",
       "\n",
       "    .dataframe thead th {\n",
       "        text-align: right;\n",
       "    }\n",
       "</style>\n",
       "<table border=\"1\" class=\"dataframe\">\n",
       "  <thead>\n",
       "    <tr style=\"text-align: right;\">\n",
       "      <th></th>\n",
       "      <th>student_id</th>\n",
       "      <th>name</th>\n",
       "      <th>age</th>\n",
       "      <th>gender</th>\n",
       "      <th>grade</th>\n",
       "      <th>math_score</th>\n",
       "      <th>english_score</th>\n",
       "      <th>science_score</th>\n",
       "      <th>enrolled_date</th>\n",
       "      <th>remarks</th>\n",
       "    </tr>\n",
       "  </thead>\n",
       "  <tbody>\n",
       "    <tr>\n",
       "      <th>0</th>\n",
       "      <td>100</td>\n",
       "      <td>Jane Smith</td>\n",
       "      <td>16.0</td>\n",
       "      <td>Female</td>\n",
       "      <td>11</td>\n",
       "      <td>75.0</td>\n",
       "      <td>NaN</td>\n",
       "      <td>66</td>\n",
       "      <td>2022-06-10</td>\n",
       "      <td>excellent</td>\n",
       "    </tr>\n",
       "    <tr>\n",
       "      <th>1</th>\n",
       "      <td>101</td>\n",
       "      <td>John Doe</td>\n",
       "      <td>16.0</td>\n",
       "      <td>Male</td>\n",
       "      <td>10</td>\n",
       "      <td>74.0</td>\n",
       "      <td>95</td>\n",
       "      <td>94</td>\n",
       "      <td>10-06-2022</td>\n",
       "      <td>GOOD</td>\n",
       "    </tr>\n",
       "    <tr>\n",
       "      <th>2</th>\n",
       "      <td>102</td>\n",
       "      <td>Chris P.</td>\n",
       "      <td>17.0</td>\n",
       "      <td>Male</td>\n",
       "      <td>10</td>\n",
       "      <td>74.0</td>\n",
       "      <td>missing</td>\n",
       "      <td>69</td>\n",
       "      <td>06/12/2022</td>\n",
       "      <td>needs improvement</td>\n",
       "    </tr>\n",
       "    <tr>\n",
       "      <th>3</th>\n",
       "      <td>103</td>\n",
       "      <td>Jane Smith</td>\n",
       "      <td>16.0</td>\n",
       "      <td>Female</td>\n",
       "      <td>10</td>\n",
       "      <td>74.0</td>\n",
       "      <td>missing</td>\n",
       "      <td>62</td>\n",
       "      <td>10-06-2022</td>\n",
       "      <td>average</td>\n",
       "    </tr>\n",
       "    <tr>\n",
       "      <th>4</th>\n",
       "      <td>104</td>\n",
       "      <td>Sara O'Neil</td>\n",
       "      <td>16.0</td>\n",
       "      <td>male</td>\n",
       "      <td>11</td>\n",
       "      <td>74.0</td>\n",
       "      <td>96</td>\n",
       "      <td>64</td>\n",
       "      <td>2022-06-10</td>\n",
       "      <td>GOOD</td>\n",
       "    </tr>\n",
       "  </tbody>\n",
       "</table>\n",
       "</div>"
      ],
      "text/plain": [
       "   student_id         name   age  gender grade  math_score english_score  \\\n",
       "0         100   Jane Smith  16.0  Female    11        75.0           NaN   \n",
       "1         101     John Doe  16.0    Male    10        74.0            95   \n",
       "2         102     Chris P.  17.0    Male    10        74.0       missing   \n",
       "3         103   Jane Smith  16.0  Female    10        74.0       missing   \n",
       "4         104  Sara O'Neil  16.0    male    11        74.0            96   \n",
       "\n",
       "   science_score enrolled_date            remarks  \n",
       "0             66    2022-06-10          excellent  \n",
       "1             94    10-06-2022               GOOD  \n",
       "2             69    06/12/2022  needs improvement  \n",
       "3             62    10-06-2022            average  \n",
       "4             64    2022-06-10               GOOD  "
      ]
     },
     "execution_count": 38,
     "metadata": {},
     "output_type": "execute_result"
    }
   ],
   "source": [
    "df.head()"
   ]
  },
  {
   "cell_type": "markdown",
   "id": "ce365277-2239-47ca-8dd7-a006c60028fa",
   "metadata": {},
   "source": [
    "# check all the unique values present in the enhlish score colomn"
   ]
  },
  {
   "cell_type": "code",
   "execution_count": 39,
   "id": "8690ac56-57b5-494a-bdad-41d5bb8a985c",
   "metadata": {},
   "outputs": [
    {
     "data": {
      "text/plain": [
       "array([nan, '95', 'missing', '96', '63', '67', '87', '91', '74', '72',\n",
       "       '80', '76', '64'], dtype=object)"
      ]
     },
     "execution_count": 39,
     "metadata": {},
     "output_type": "execute_result"
    }
   ],
   "source": [
    "df.english_score.unique()"
   ]
  },
  {
   "cell_type": "markdown",
   "id": "4f110636-7c23-47c6-9980-22249bc66d68",
   "metadata": {},
   "source": [
    "### Change the values in numeric if any str value in the english score coloum it will fill will na values and then we can fill the na value"
   ]
  },
  {
   "cell_type": "code",
   "execution_count": 40,
   "id": "024f13ca-feb1-4155-a0f2-5bab261c092e",
   "metadata": {},
   "outputs": [],
   "source": [
    "df.loc[:,'english_score']=pd.to_numeric(df['english_score'],errors='coerce')"
   ]
  },
  {
   "cell_type": "code",
   "execution_count": 41,
   "id": "e440cd5e-5806-4110-8cc7-852d1af7a503",
   "metadata": {},
   "outputs": [],
   "source": [
    "eng_mean=df.english_score.mean().round() "
   ]
  },
  {
   "cell_type": "markdown",
   "id": "7e799219-8a04-4574-81fb-358d3631f9a7",
   "metadata": {},
   "source": [
    "# Fill the mean value in the english score columns"
   ]
  },
  {
   "cell_type": "code",
   "execution_count": 42,
   "id": "c08ecb1b-3778-41e0-a323-a9851c5e80c5",
   "metadata": {},
   "outputs": [
    {
     "name": "stderr",
     "output_type": "stream",
     "text": [
      "C:\\Users\\DELL\\AppData\\Local\\Temp\\ipykernel_22688\\265573642.py:1: FutureWarning: Downcasting object dtype arrays on .fillna, .ffill, .bfill is deprecated and will change in a future version. Call result.infer_objects(copy=False) instead. To opt-in to the future behavior, set `pd.set_option('future.no_silent_downcasting', True)`\n",
      "  df.loc[:,'english_score']=df.english_score.fillna(eng_mean)\n"
     ]
    }
   ],
   "source": [
    "df.loc[:,'english_score']=df.english_score.fillna(eng_mean)"
   ]
  },
  {
   "cell_type": "code",
   "execution_count": 43,
   "id": "2d50d4de-1cc5-41bd-b0ae-ef7592dbfe8b",
   "metadata": {},
   "outputs": [
    {
     "data": {
      "text/html": [
       "<div>\n",
       "<style scoped>\n",
       "    .dataframe tbody tr th:only-of-type {\n",
       "        vertical-align: middle;\n",
       "    }\n",
       "\n",
       "    .dataframe tbody tr th {\n",
       "        vertical-align: top;\n",
       "    }\n",
       "\n",
       "    .dataframe thead th {\n",
       "        text-align: right;\n",
       "    }\n",
       "</style>\n",
       "<table border=\"1\" class=\"dataframe\">\n",
       "  <thead>\n",
       "    <tr style=\"text-align: right;\">\n",
       "      <th></th>\n",
       "      <th>student_id</th>\n",
       "      <th>name</th>\n",
       "      <th>age</th>\n",
       "      <th>gender</th>\n",
       "      <th>grade</th>\n",
       "      <th>math_score</th>\n",
       "      <th>english_score</th>\n",
       "      <th>science_score</th>\n",
       "      <th>enrolled_date</th>\n",
       "      <th>remarks</th>\n",
       "    </tr>\n",
       "  </thead>\n",
       "  <tbody>\n",
       "    <tr>\n",
       "      <th>0</th>\n",
       "      <td>100</td>\n",
       "      <td>Jane Smith</td>\n",
       "      <td>16.0</td>\n",
       "      <td>Female</td>\n",
       "      <td>11</td>\n",
       "      <td>75.0</td>\n",
       "      <td>77.0</td>\n",
       "      <td>66</td>\n",
       "      <td>2022-06-10</td>\n",
       "      <td>excellent</td>\n",
       "    </tr>\n",
       "    <tr>\n",
       "      <th>1</th>\n",
       "      <td>101</td>\n",
       "      <td>John Doe</td>\n",
       "      <td>16.0</td>\n",
       "      <td>Male</td>\n",
       "      <td>10</td>\n",
       "      <td>74.0</td>\n",
       "      <td>95.0</td>\n",
       "      <td>94</td>\n",
       "      <td>10-06-2022</td>\n",
       "      <td>GOOD</td>\n",
       "    </tr>\n",
       "    <tr>\n",
       "      <th>2</th>\n",
       "      <td>102</td>\n",
       "      <td>Chris P.</td>\n",
       "      <td>17.0</td>\n",
       "      <td>Male</td>\n",
       "      <td>10</td>\n",
       "      <td>74.0</td>\n",
       "      <td>77.0</td>\n",
       "      <td>69</td>\n",
       "      <td>06/12/2022</td>\n",
       "      <td>needs improvement</td>\n",
       "    </tr>\n",
       "    <tr>\n",
       "      <th>3</th>\n",
       "      <td>103</td>\n",
       "      <td>Jane Smith</td>\n",
       "      <td>16.0</td>\n",
       "      <td>Female</td>\n",
       "      <td>10</td>\n",
       "      <td>74.0</td>\n",
       "      <td>77.0</td>\n",
       "      <td>62</td>\n",
       "      <td>10-06-2022</td>\n",
       "      <td>average</td>\n",
       "    </tr>\n",
       "    <tr>\n",
       "      <th>4</th>\n",
       "      <td>104</td>\n",
       "      <td>Sara O'Neil</td>\n",
       "      <td>16.0</td>\n",
       "      <td>male</td>\n",
       "      <td>11</td>\n",
       "      <td>74.0</td>\n",
       "      <td>96.0</td>\n",
       "      <td>64</td>\n",
       "      <td>2022-06-10</td>\n",
       "      <td>GOOD</td>\n",
       "    </tr>\n",
       "  </tbody>\n",
       "</table>\n",
       "</div>"
      ],
      "text/plain": [
       "   student_id         name   age  gender grade  math_score english_score  \\\n",
       "0         100   Jane Smith  16.0  Female    11        75.0          77.0   \n",
       "1         101     John Doe  16.0    Male    10        74.0          95.0   \n",
       "2         102     Chris P.  17.0    Male    10        74.0          77.0   \n",
       "3         103   Jane Smith  16.0  Female    10        74.0          77.0   \n",
       "4         104  Sara O'Neil  16.0    male    11        74.0          96.0   \n",
       "\n",
       "   science_score enrolled_date            remarks  \n",
       "0             66    2022-06-10          excellent  \n",
       "1             94    10-06-2022               GOOD  \n",
       "2             69    06/12/2022  needs improvement  \n",
       "3             62    10-06-2022            average  \n",
       "4             64    2022-06-10               GOOD  "
      ]
     },
     "execution_count": 43,
     "metadata": {},
     "output_type": "execute_result"
    }
   ],
   "source": [
    "df.head()"
   ]
  },
  {
   "cell_type": "markdown",
   "id": "48dfbfba-e0f3-4df3-ace5-a94747513c23",
   "metadata": {},
   "source": [
    "# Replace repeating values with our values"
   ]
  },
  {
   "cell_type": "code",
   "execution_count": 44,
   "id": "dd951b56-bdee-44e7-a3d0-12f5b6e4346b",
   "metadata": {},
   "outputs": [
    {
     "data": {
      "text/plain": [
       "array(['excellent', 'GOOD', 'needs improvement', 'average', 'Good',\n",
       "       'poor', 'Average', 'good student'], dtype=object)"
      ]
     },
     "execution_count": 44,
     "metadata": {},
     "output_type": "execute_result"
    }
   ],
   "source": [
    "df.remarks.unique()"
   ]
  },
  {
   "cell_type": "code",
   "execution_count": 45,
   "id": "921e7d7f-fa81-468a-b28b-b55d7b21ba10",
   "metadata": {},
   "outputs": [],
   "source": [
    "remarks={'excellent':\"Exellent\",'GOOD':'Good','needs improvement':'Need Improvement','average':'Average',\n",
    "         'poor':'Poor','good student':'Good Student'}"
   ]
  },
  {
   "cell_type": "code",
   "execution_count": 46,
   "id": "9b349dde-48eb-4910-8eeb-410797a67731",
   "metadata": {},
   "outputs": [
    {
     "data": {
      "text/html": [
       "<div>\n",
       "<style scoped>\n",
       "    .dataframe tbody tr th:only-of-type {\n",
       "        vertical-align: middle;\n",
       "    }\n",
       "\n",
       "    .dataframe tbody tr th {\n",
       "        vertical-align: top;\n",
       "    }\n",
       "\n",
       "    .dataframe thead th {\n",
       "        text-align: right;\n",
       "    }\n",
       "</style>\n",
       "<table border=\"1\" class=\"dataframe\">\n",
       "  <thead>\n",
       "    <tr style=\"text-align: right;\">\n",
       "      <th></th>\n",
       "      <th>student_id</th>\n",
       "      <th>name</th>\n",
       "      <th>age</th>\n",
       "      <th>gender</th>\n",
       "      <th>grade</th>\n",
       "      <th>math_score</th>\n",
       "      <th>english_score</th>\n",
       "      <th>science_score</th>\n",
       "      <th>enrolled_date</th>\n",
       "      <th>remarks</th>\n",
       "    </tr>\n",
       "  </thead>\n",
       "  <tbody>\n",
       "    <tr>\n",
       "      <th>0</th>\n",
       "      <td>100</td>\n",
       "      <td>Jane Smith</td>\n",
       "      <td>16.0</td>\n",
       "      <td>Female</td>\n",
       "      <td>11</td>\n",
       "      <td>75.0</td>\n",
       "      <td>77.0</td>\n",
       "      <td>66</td>\n",
       "      <td>2022-06-10</td>\n",
       "      <td>excellent</td>\n",
       "    </tr>\n",
       "    <tr>\n",
       "      <th>1</th>\n",
       "      <td>101</td>\n",
       "      <td>John Doe</td>\n",
       "      <td>16.0</td>\n",
       "      <td>Male</td>\n",
       "      <td>10</td>\n",
       "      <td>74.0</td>\n",
       "      <td>95.0</td>\n",
       "      <td>94</td>\n",
       "      <td>10-06-2022</td>\n",
       "      <td>GOOD</td>\n",
       "    </tr>\n",
       "    <tr>\n",
       "      <th>2</th>\n",
       "      <td>102</td>\n",
       "      <td>Chris P.</td>\n",
       "      <td>17.0</td>\n",
       "      <td>Male</td>\n",
       "      <td>10</td>\n",
       "      <td>74.0</td>\n",
       "      <td>77.0</td>\n",
       "      <td>69</td>\n",
       "      <td>06/12/2022</td>\n",
       "      <td>needs improvement</td>\n",
       "    </tr>\n",
       "    <tr>\n",
       "      <th>3</th>\n",
       "      <td>103</td>\n",
       "      <td>Jane Smith</td>\n",
       "      <td>16.0</td>\n",
       "      <td>Female</td>\n",
       "      <td>10</td>\n",
       "      <td>74.0</td>\n",
       "      <td>77.0</td>\n",
       "      <td>62</td>\n",
       "      <td>10-06-2022</td>\n",
       "      <td>average</td>\n",
       "    </tr>\n",
       "    <tr>\n",
       "      <th>4</th>\n",
       "      <td>104</td>\n",
       "      <td>Sara O'Neil</td>\n",
       "      <td>16.0</td>\n",
       "      <td>male</td>\n",
       "      <td>11</td>\n",
       "      <td>74.0</td>\n",
       "      <td>96.0</td>\n",
       "      <td>64</td>\n",
       "      <td>2022-06-10</td>\n",
       "      <td>GOOD</td>\n",
       "    </tr>\n",
       "  </tbody>\n",
       "</table>\n",
       "</div>"
      ],
      "text/plain": [
       "   student_id         name   age  gender grade  math_score english_score  \\\n",
       "0         100   Jane Smith  16.0  Female    11        75.0          77.0   \n",
       "1         101     John Doe  16.0    Male    10        74.0          95.0   \n",
       "2         102     Chris P.  17.0    Male    10        74.0          77.0   \n",
       "3         103   Jane Smith  16.0  Female    10        74.0          77.0   \n",
       "4         104  Sara O'Neil  16.0    male    11        74.0          96.0   \n",
       "\n",
       "   science_score enrolled_date            remarks  \n",
       "0             66    2022-06-10          excellent  \n",
       "1             94    10-06-2022               GOOD  \n",
       "2             69    06/12/2022  needs improvement  \n",
       "3             62    10-06-2022            average  \n",
       "4             64    2022-06-10               GOOD  "
      ]
     },
     "execution_count": 46,
     "metadata": {},
     "output_type": "execute_result"
    }
   ],
   "source": [
    "df.head()"
   ]
  },
  {
   "cell_type": "code",
   "execution_count": 47,
   "id": "677ca40b-0db2-4a28-9dee-7a278d215aed",
   "metadata": {},
   "outputs": [
    {
     "data": {
      "text/plain": [
       "array(['2022-06-10', '10-06-2022', '06/12/2022', '2022/06/11'],\n",
       "      dtype=object)"
      ]
     },
     "execution_count": 47,
     "metadata": {},
     "output_type": "execute_result"
    }
   ],
   "source": [
    "df.enrolled_date.unique()"
   ]
  },
  {
   "cell_type": "code",
   "execution_count": 48,
   "id": "7b68f361-4569-4421-840f-d1f71862a575",
   "metadata": {},
   "outputs": [],
   "source": [
    "dat={'10-06-2022':'2022-06-10','06/12/2022':'2022-06-10','2022/06/11':'2022-06-10'}\n",
    "    "
   ]
  },
  {
   "cell_type": "markdown",
   "id": "803a5b49-edfb-44e0-9328-dbc4c781b52f",
   "metadata": {},
   "source": [
    "# Replace date with same format present in the column"
   ]
  },
  {
   "cell_type": "code",
   "execution_count": 49,
   "id": "039c61c7-0fe8-4e92-bbf4-c914f912a00d",
   "metadata": {},
   "outputs": [],
   "source": [
    "df.loc[:,'enrolled_date']=df.enrolled_date.replace(dat)"
   ]
  },
  {
   "cell_type": "code",
   "execution_count": null,
   "id": "1be3d987-0067-4336-9449-af06ee673838",
   "metadata": {},
   "outputs": [],
   "source": []
  },
  {
   "cell_type": "markdown",
   "id": "dd817458-bc84-4f31-987d-8a80b2e53580",
   "metadata": {},
   "source": [
    "# Convert date into pandas datetime format"
   ]
  },
  {
   "cell_type": "code",
   "execution_count": 50,
   "id": "6871d60f-5472-49db-8b07-6c0c78056278",
   "metadata": {},
   "outputs": [
    {
     "data": {
      "text/plain": [
       "0    2022-06-10\n",
       "1    2022-06-10\n",
       "2    2022-06-10\n",
       "3    2022-06-10\n",
       "4    2022-06-10\n",
       "5    2022-06-10\n",
       "6    2022-06-10\n",
       "7    2022-06-10\n",
       "8    2022-06-10\n",
       "9    2022-06-10\n",
       "10   2022-06-10\n",
       "11   2022-06-10\n",
       "12   2022-06-10\n",
       "13   2022-06-10\n",
       "14   2022-06-10\n",
       "15   2022-06-10\n",
       "16   2022-06-10\n",
       "17   2022-06-10\n",
       "18   2022-06-10\n",
       "19   2022-06-10\n",
       "20   2022-06-10\n",
       "21   2022-06-10\n",
       "22   2022-06-10\n",
       "23   2022-06-10\n",
       "24   2022-06-10\n",
       "25   2022-06-10\n",
       "26   2022-06-10\n",
       "27   2022-06-10\n",
       "28   2022-06-10\n",
       "29   2022-06-10\n",
       "30   2022-06-10\n",
       "Name: enrolled_date, dtype: datetime64[ns]"
      ]
     },
     "execution_count": 50,
     "metadata": {},
     "output_type": "execute_result"
    }
   ],
   "source": [
    "pd.to_datetime(df['enrolled_date'])"
   ]
  },
  {
   "cell_type": "code",
   "execution_count": 51,
   "id": "2b7606c7-5b36-42b7-9281-f98ada6c6c44",
   "metadata": {},
   "outputs": [
    {
     "data": {
      "text/html": [
       "<div>\n",
       "<style scoped>\n",
       "    .dataframe tbody tr th:only-of-type {\n",
       "        vertical-align: middle;\n",
       "    }\n",
       "\n",
       "    .dataframe tbody tr th {\n",
       "        vertical-align: top;\n",
       "    }\n",
       "\n",
       "    .dataframe thead th {\n",
       "        text-align: right;\n",
       "    }\n",
       "</style>\n",
       "<table border=\"1\" class=\"dataframe\">\n",
       "  <thead>\n",
       "    <tr style=\"text-align: right;\">\n",
       "      <th></th>\n",
       "      <th>student_id</th>\n",
       "      <th>name</th>\n",
       "      <th>age</th>\n",
       "      <th>gender</th>\n",
       "      <th>grade</th>\n",
       "      <th>math_score</th>\n",
       "      <th>english_score</th>\n",
       "      <th>science_score</th>\n",
       "      <th>enrolled_date</th>\n",
       "      <th>remarks</th>\n",
       "    </tr>\n",
       "  </thead>\n",
       "  <tbody>\n",
       "    <tr>\n",
       "      <th>0</th>\n",
       "      <td>100</td>\n",
       "      <td>Jane Smith</td>\n",
       "      <td>16.0</td>\n",
       "      <td>Female</td>\n",
       "      <td>11</td>\n",
       "      <td>75.0</td>\n",
       "      <td>77.0</td>\n",
       "      <td>66</td>\n",
       "      <td>2022-06-10</td>\n",
       "      <td>excellent</td>\n",
       "    </tr>\n",
       "    <tr>\n",
       "      <th>1</th>\n",
       "      <td>101</td>\n",
       "      <td>John Doe</td>\n",
       "      <td>16.0</td>\n",
       "      <td>Male</td>\n",
       "      <td>10</td>\n",
       "      <td>74.0</td>\n",
       "      <td>95.0</td>\n",
       "      <td>94</td>\n",
       "      <td>2022-06-10</td>\n",
       "      <td>GOOD</td>\n",
       "    </tr>\n",
       "    <tr>\n",
       "      <th>2</th>\n",
       "      <td>102</td>\n",
       "      <td>Chris P.</td>\n",
       "      <td>17.0</td>\n",
       "      <td>Male</td>\n",
       "      <td>10</td>\n",
       "      <td>74.0</td>\n",
       "      <td>77.0</td>\n",
       "      <td>69</td>\n",
       "      <td>2022-06-10</td>\n",
       "      <td>needs improvement</td>\n",
       "    </tr>\n",
       "    <tr>\n",
       "      <th>3</th>\n",
       "      <td>103</td>\n",
       "      <td>Jane Smith</td>\n",
       "      <td>16.0</td>\n",
       "      <td>Female</td>\n",
       "      <td>10</td>\n",
       "      <td>74.0</td>\n",
       "      <td>77.0</td>\n",
       "      <td>62</td>\n",
       "      <td>2022-06-10</td>\n",
       "      <td>average</td>\n",
       "    </tr>\n",
       "    <tr>\n",
       "      <th>4</th>\n",
       "      <td>104</td>\n",
       "      <td>Sara O'Neil</td>\n",
       "      <td>16.0</td>\n",
       "      <td>male</td>\n",
       "      <td>11</td>\n",
       "      <td>74.0</td>\n",
       "      <td>96.0</td>\n",
       "      <td>64</td>\n",
       "      <td>2022-06-10</td>\n",
       "      <td>GOOD</td>\n",
       "    </tr>\n",
       "  </tbody>\n",
       "</table>\n",
       "</div>"
      ],
      "text/plain": [
       "   student_id         name   age  gender grade  math_score english_score  \\\n",
       "0         100   Jane Smith  16.0  Female    11        75.0          77.0   \n",
       "1         101     John Doe  16.0    Male    10        74.0          95.0   \n",
       "2         102     Chris P.  17.0    Male    10        74.0          77.0   \n",
       "3         103   Jane Smith  16.0  Female    10        74.0          77.0   \n",
       "4         104  Sara O'Neil  16.0    male    11        74.0          96.0   \n",
       "\n",
       "   science_score enrolled_date            remarks  \n",
       "0             66    2022-06-10          excellent  \n",
       "1             94    2022-06-10               GOOD  \n",
       "2             69    2022-06-10  needs improvement  \n",
       "3             62    2022-06-10            average  \n",
       "4             64    2022-06-10               GOOD  "
      ]
     },
     "execution_count": 51,
     "metadata": {},
     "output_type": "execute_result"
    }
   ],
   "source": [
    "df.head()"
   ]
  },
  {
   "cell_type": "markdown",
   "id": "dd004a73-28db-4ada-aec1-87722b9fa9ca",
   "metadata": {},
   "source": [
    "# Change the data types of the column"
   ]
  },
  {
   "cell_type": "code",
   "execution_count": null,
   "id": "9559b7b9-4ecf-4f7f-9811-eb0c8dff175d",
   "metadata": {},
   "outputs": [],
   "source": []
  },
  {
   "cell_type": "code",
   "execution_count": 52,
   "id": "9316db55-792b-4315-809d-c0575e85bbbb",
   "metadata": {},
   "outputs": [],
   "source": [
    "import numpy as np\n",
    "df[\"math_score\"] = np.floor(df[\"math_score\"]).astype(int)\n"
   ]
  },
  {
   "cell_type": "markdown",
   "id": "52080138-f15b-44aa-9435-8f21938b952a",
   "metadata": {},
   "source": [
    "# show the datatypes of all the columns"
   ]
  },
  {
   "cell_type": "code",
   "execution_count": 54,
   "id": "fbcc1d99-0bf8-4488-94b0-f584b882a8ca",
   "metadata": {},
   "outputs": [
    {
     "name": "stdout",
     "output_type": "stream",
     "text": [
      "<class 'pandas.core.frame.DataFrame'>\n",
      "RangeIndex: 31 entries, 0 to 30\n",
      "Data columns (total 10 columns):\n",
      " #   Column         Non-Null Count  Dtype  \n",
      "---  ------         --------------  -----  \n",
      " 0   student_id     31 non-null     int64  \n",
      " 1   name           31 non-null     object \n",
      " 2   age            31 non-null     float64\n",
      " 3   gender         31 non-null     object \n",
      " 4   grade          31 non-null     object \n",
      " 5   math_score     31 non-null     int32  \n",
      " 6   english_score  31 non-null     object \n",
      " 7   science_score  31 non-null     int64  \n",
      " 8   enrolled_date  31 non-null     object \n",
      " 9   remarks        31 non-null     object \n",
      "dtypes: float64(1), int32(1), int64(2), object(6)\n",
      "memory usage: 2.4+ KB\n"
     ]
    }
   ],
   "source": [
    "df.info()"
   ]
  },
  {
   "cell_type": "markdown",
   "id": "8cc56e48-3357-4e96-a3a1-f69899504874",
   "metadata": {},
   "source": [
    "# Save the data in your local computer by using the file path"
   ]
  },
  {
   "cell_type": "code",
   "execution_count": 301,
   "id": "aa381d78-bd0c-4d5e-aea5-4c64db3b0787",
   "metadata": {},
   "outputs": [],
   "source": [
    "df.to_csv('C:/Users/DELL/Downloads/students_cleaned_data.csv')"
   ]
  },
  {
   "cell_type": "code",
   "execution_count": null,
   "id": "2c401c40-56f6-48e0-93d4-7734303a98ca",
   "metadata": {},
   "outputs": [],
   "source": []
  }
 ],
 "metadata": {
  "kernelspec": {
   "display_name": "Python 3 (ipykernel)",
   "language": "python",
   "name": "python3"
  },
  "language_info": {
   "codemirror_mode": {
    "name": "ipython",
    "version": 3
   },
   "file_extension": ".py",
   "mimetype": "text/x-python",
   "name": "python",
   "nbconvert_exporter": "python",
   "pygments_lexer": "ipython3",
   "version": "3.12.4"
  }
 },
 "nbformat": 4,
 "nbformat_minor": 5
}
